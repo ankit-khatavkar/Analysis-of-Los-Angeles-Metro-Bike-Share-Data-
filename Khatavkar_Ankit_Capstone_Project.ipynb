{
 "cells": [
  {
   "cell_type": "markdown",
   "metadata": {},
   "source": [
    "### Aim: The dataset is hosted by city of Los Angeles named as \"Metro Bike Share Trip Data\". I will be analyzing the use of metro bikes in order to build a bike network that really works."
   ]
  },
  {
   "cell_type": "markdown",
   "metadata": {},
   "source": [
    "# Introduction\n",
    "This dataset is a catalogue of rides taken on the LA-Metro Bike Share Network.The Metro Bike Share system makes bikes available 24/7, 365 days a year in Downtown LA, Central LA, Port of LA and the Westside. Metro Bike Share offers convenient round-the-clock access to a fleet of bicycles for short trips. Metro Bike Share is one of LA Metro's multiple public transportation options for Angelenos and visitors to get around.\n",
    "\n",
    "Feature descriptions from https://bikeshare.metro.net/about/data/\n",
    "\n",
    "* trip_id: Locally unique integer that identifies the trip\n",
    "\n",
    "* duration: Length of trip in seconds\n",
    "\n",
    "* start_time: The date/time when the trip began, presented in ISO 8601 format in local time\n",
    "\n",
    "* end_time: The date/time when the trip ended, presented in ISO 8601 format in local time\n",
    "\n",
    "* start_station: The station ID where the trip originated\n",
    "\n",
    "* start_lat: The latitude of the station where the trip originated\n",
    "\n",
    "* start_lon: The longitude of the station where the trip originated\n",
    "\n",
    "* end_station: The station ID where the trip terminated\n",
    "\n",
    "* end_lat: The latitude of the station where the trip terminated\n",
    "\n",
    "* end_lon: The longitude of the station where the trip terminated\n",
    "\n",
    "* bike_id: Locally unique integer that identifies the bike\n",
    "\n",
    "* plan_duration: The number of days that the plan the passholder is using entitles them to ride; 0 is used for a single ride plan (Walk-up)\n",
    "\n",
    "* trip_route_category: \"Round Trip\" for trips starting and ending at the same station or \"One Way\" for all other trips\n",
    "\n",
    "* passholder_type: The name of the passholder's plan\n",
    "\n",
    "Other features are not officially described by Metro Bike Share\n",
    "\n",
    "Remaining features appear to be LA geographic information which i think is not relevant to my analysis, many of which include large amounts of missing data. So i have dropped those columns.\n"
   ]
  },
  {
   "cell_type": "code",
   "execution_count": 1,
   "metadata": {},
   "outputs": [
    {
     "name": "stdout",
     "output_type": "stream",
     "text": [
      "Requirement already satisfied: folium in c:\\users\\18572\\anaconda3\\lib\\site-packages (0.9.1)\n",
      "Requirement already satisfied: numpy in c:\\users\\18572\\anaconda3\\lib\\site-packages (from folium) (1.16.2)\n",
      "Requirement already satisfied: branca>=0.3.0 in c:\\users\\18572\\anaconda3\\lib\\site-packages (from folium) (0.3.1)\n",
      "Requirement already satisfied: requests in c:\\users\\18572\\anaconda3\\lib\\site-packages (from folium) (2.21.0)\n",
      "Requirement already satisfied: jinja2>=2.9 in c:\\users\\18572\\anaconda3\\lib\\site-packages (from folium) (2.10)\n",
      "Requirement already satisfied: six in c:\\users\\18572\\anaconda3\\lib\\site-packages (from branca>=0.3.0->folium) (1.12.0)\n",
      "Requirement already satisfied: certifi>=2017.4.17 in c:\\users\\18572\\anaconda3\\lib\\site-packages (from requests->folium) (2019.3.9)\n",
      "Requirement already satisfied: chardet<3.1.0,>=3.0.2 in c:\\users\\18572\\anaconda3\\lib\\site-packages (from requests->folium) (3.0.4)\n",
      "Requirement already satisfied: idna<2.9,>=2.5 in c:\\users\\18572\\anaconda3\\lib\\site-packages (from requests->folium) (2.8)\n",
      "Requirement already satisfied: urllib3<1.25,>=1.21.1 in c:\\users\\18572\\anaconda3\\lib\\site-packages (from requests->folium) (1.24.1)\n",
      "Requirement already satisfied: MarkupSafe>=0.23 in c:\\users\\18572\\anaconda3\\lib\\site-packages (from jinja2>=2.9->folium) (1.1.1)\n"
     ]
    }
   ],
   "source": [
    "!pip install folium"
   ]
  },
  {
   "cell_type": "code",
   "execution_count": 2,
   "metadata": {},
   "outputs": [],
   "source": [
    "import pandas as pd\n",
    "import folium\n",
    "import matplotlib.pyplot as plt\n",
    "import seaborn as sns\n",
    "%matplotlib inline\n",
    "from Khatavkar_Ankit_Capstone_Project_Code import distance_on_unit_sphere\n",
    "from Khatavkar_Ankit_Capstone_Project_Code import modeling_techniques_and_prediction"
   ]
  },
  {
   "cell_type": "markdown",
   "metadata": {},
   "source": [
    "# Data Extraction"
   ]
  },
  {
   "cell_type": "code",
   "execution_count": 3,
   "metadata": {},
   "outputs": [
    {
     "data": {
      "text/html": [
       "<div>\n",
       "<style scoped>\n",
       "    .dataframe tbody tr th:only-of-type {\n",
       "        vertical-align: middle;\n",
       "    }\n",
       "\n",
       "    .dataframe tbody tr th {\n",
       "        vertical-align: top;\n",
       "    }\n",
       "\n",
       "    .dataframe thead th {\n",
       "        text-align: right;\n",
       "    }\n",
       "</style>\n",
       "<table border=\"1\" class=\"dataframe\">\n",
       "  <thead>\n",
       "    <tr style=\"text-align: right;\">\n",
       "      <th></th>\n",
       "      <th>Trip ID</th>\n",
       "      <th>Duration</th>\n",
       "      <th>Start Time</th>\n",
       "      <th>End Time</th>\n",
       "      <th>Starting Station ID</th>\n",
       "      <th>Starting Station Latitude</th>\n",
       "      <th>Starting Station Longitude</th>\n",
       "      <th>Ending Station ID</th>\n",
       "      <th>Ending Station Latitude</th>\n",
       "      <th>Ending Station Longitude</th>\n",
       "      <th>...</th>\n",
       "      <th>Trip Route Category</th>\n",
       "      <th>Passholder Type</th>\n",
       "      <th>Starting Lat-Long</th>\n",
       "      <th>Ending Lat-Long</th>\n",
       "      <th>Neighborhood Councils (Certified)</th>\n",
       "      <th>Council Districts</th>\n",
       "      <th>Zip Codes</th>\n",
       "      <th>LA Specific Plans</th>\n",
       "      <th>Precinct Boundaries</th>\n",
       "      <th>Census Tracts</th>\n",
       "    </tr>\n",
       "  </thead>\n",
       "  <tbody>\n",
       "    <tr>\n",
       "      <th>0</th>\n",
       "      <td>18222186</td>\n",
       "      <td>15060</td>\n",
       "      <td>01/19/2017 05:05:00 PM</td>\n",
       "      <td>01/19/2017 09:16:00 PM</td>\n",
       "      <td>3031.0</td>\n",
       "      <td>34.044701</td>\n",
       "      <td>-118.252441</td>\n",
       "      <td>3000.0</td>\n",
       "      <td>NaN</td>\n",
       "      <td>NaN</td>\n",
       "      <td>...</td>\n",
       "      <td>One Way</td>\n",
       "      <td>Walk-up</td>\n",
       "      <td>NaN</td>\n",
       "      <td>NaN</td>\n",
       "      <td>NaN</td>\n",
       "      <td>NaN</td>\n",
       "      <td>NaN</td>\n",
       "      <td>NaN</td>\n",
       "      <td>NaN</td>\n",
       "      <td>NaN</td>\n",
       "    </tr>\n",
       "    <tr>\n",
       "      <th>1</th>\n",
       "      <td>9518671</td>\n",
       "      <td>77160</td>\n",
       "      <td>10/09/2016 02:37:00 PM</td>\n",
       "      <td>10/10/2016 12:03:00 PM</td>\n",
       "      <td>NaN</td>\n",
       "      <td>NaN</td>\n",
       "      <td>NaN</td>\n",
       "      <td>3000.0</td>\n",
       "      <td>NaN</td>\n",
       "      <td>NaN</td>\n",
       "      <td>...</td>\n",
       "      <td>One Way</td>\n",
       "      <td>Monthly Pass</td>\n",
       "      <td>NaN</td>\n",
       "      <td>NaN</td>\n",
       "      <td>NaN</td>\n",
       "      <td>NaN</td>\n",
       "      <td>NaN</td>\n",
       "      <td>NaN</td>\n",
       "      <td>NaN</td>\n",
       "      <td>NaN</td>\n",
       "    </tr>\n",
       "    <tr>\n",
       "      <th>2</th>\n",
       "      <td>20444932</td>\n",
       "      <td>86400</td>\n",
       "      <td>02/18/2017 10:15:00 AM</td>\n",
       "      <td>02/20/2017 03:20:00 PM</td>\n",
       "      <td>3026.0</td>\n",
       "      <td>34.063179</td>\n",
       "      <td>-118.245880</td>\n",
       "      <td>3000.0</td>\n",
       "      <td>NaN</td>\n",
       "      <td>NaN</td>\n",
       "      <td>...</td>\n",
       "      <td>One Way</td>\n",
       "      <td>Walk-up</td>\n",
       "      <td>NaN</td>\n",
       "      <td>NaN</td>\n",
       "      <td>NaN</td>\n",
       "      <td>NaN</td>\n",
       "      <td>NaN</td>\n",
       "      <td>NaN</td>\n",
       "      <td>NaN</td>\n",
       "      <td>NaN</td>\n",
       "    </tr>\n",
       "    <tr>\n",
       "      <th>3</th>\n",
       "      <td>20905031</td>\n",
       "      <td>18840</td>\n",
       "      <td>02/27/2017 12:26:00 PM</td>\n",
       "      <td>02/27/2017 05:40:00 PM</td>\n",
       "      <td>3023.0</td>\n",
       "      <td>34.050911</td>\n",
       "      <td>-118.240967</td>\n",
       "      <td>3000.0</td>\n",
       "      <td>NaN</td>\n",
       "      <td>NaN</td>\n",
       "      <td>...</td>\n",
       "      <td>One Way</td>\n",
       "      <td>Walk-up</td>\n",
       "      <td>NaN</td>\n",
       "      <td>NaN</td>\n",
       "      <td>NaN</td>\n",
       "      <td>NaN</td>\n",
       "      <td>NaN</td>\n",
       "      <td>NaN</td>\n",
       "      <td>NaN</td>\n",
       "      <td>NaN</td>\n",
       "    </tr>\n",
       "    <tr>\n",
       "      <th>4</th>\n",
       "      <td>21031476</td>\n",
       "      <td>86400</td>\n",
       "      <td>02/27/2017 08:26:00 PM</td>\n",
       "      <td>03/01/2017 09:49:00 AM</td>\n",
       "      <td>3008.0</td>\n",
       "      <td>34.046612</td>\n",
       "      <td>-118.262733</td>\n",
       "      <td>3000.0</td>\n",
       "      <td>NaN</td>\n",
       "      <td>NaN</td>\n",
       "      <td>...</td>\n",
       "      <td>One Way</td>\n",
       "      <td>Flex Pass</td>\n",
       "      <td>NaN</td>\n",
       "      <td>NaN</td>\n",
       "      <td>NaN</td>\n",
       "      <td>NaN</td>\n",
       "      <td>NaN</td>\n",
       "      <td>NaN</td>\n",
       "      <td>NaN</td>\n",
       "      <td>NaN</td>\n",
       "    </tr>\n",
       "    <tr>\n",
       "      <th>5</th>\n",
       "      <td>9378284</td>\n",
       "      <td>60</td>\n",
       "      <td>10/09/2016 09:40:00 AM</td>\n",
       "      <td>10/09/2016 09:41:00 AM</td>\n",
       "      <td>NaN</td>\n",
       "      <td>NaN</td>\n",
       "      <td>NaN</td>\n",
       "      <td>NaN</td>\n",
       "      <td>NaN</td>\n",
       "      <td>NaN</td>\n",
       "      <td>...</td>\n",
       "      <td>One Way</td>\n",
       "      <td>Staff Annual</td>\n",
       "      <td>NaN</td>\n",
       "      <td>NaN</td>\n",
       "      <td>NaN</td>\n",
       "      <td>NaN</td>\n",
       "      <td>NaN</td>\n",
       "      <td>NaN</td>\n",
       "      <td>NaN</td>\n",
       "      <td>NaN</td>\n",
       "    </tr>\n",
       "  </tbody>\n",
       "</table>\n",
       "<p>6 rows × 22 columns</p>\n",
       "</div>"
      ],
      "text/plain": [
       "    Trip ID  Duration              Start Time                End Time  \\\n",
       "0  18222186     15060  01/19/2017 05:05:00 PM  01/19/2017 09:16:00 PM   \n",
       "1   9518671     77160  10/09/2016 02:37:00 PM  10/10/2016 12:03:00 PM   \n",
       "2  20444932     86400  02/18/2017 10:15:00 AM  02/20/2017 03:20:00 PM   \n",
       "3  20905031     18840  02/27/2017 12:26:00 PM  02/27/2017 05:40:00 PM   \n",
       "4  21031476     86400  02/27/2017 08:26:00 PM  03/01/2017 09:49:00 AM   \n",
       "5   9378284        60  10/09/2016 09:40:00 AM  10/09/2016 09:41:00 AM   \n",
       "\n",
       "   Starting Station ID  Starting Station Latitude  Starting Station Longitude  \\\n",
       "0               3031.0                  34.044701                 -118.252441   \n",
       "1                  NaN                        NaN                         NaN   \n",
       "2               3026.0                  34.063179                 -118.245880   \n",
       "3               3023.0                  34.050911                 -118.240967   \n",
       "4               3008.0                  34.046612                 -118.262733   \n",
       "5                  NaN                        NaN                         NaN   \n",
       "\n",
       "   Ending Station ID  Ending Station Latitude  Ending Station Longitude  ...  \\\n",
       "0             3000.0                      NaN                       NaN  ...   \n",
       "1             3000.0                      NaN                       NaN  ...   \n",
       "2             3000.0                      NaN                       NaN  ...   \n",
       "3             3000.0                      NaN                       NaN  ...   \n",
       "4             3000.0                      NaN                       NaN  ...   \n",
       "5                NaN                      NaN                       NaN  ...   \n",
       "\n",
       "   Trip Route Category  Passholder Type Starting Lat-Long Ending Lat-Long  \\\n",
       "0              One Way          Walk-up               NaN             NaN   \n",
       "1              One Way     Monthly Pass               NaN             NaN   \n",
       "2              One Way          Walk-up               NaN             NaN   \n",
       "3              One Way          Walk-up               NaN             NaN   \n",
       "4              One Way        Flex Pass               NaN             NaN   \n",
       "5              One Way     Staff Annual               NaN             NaN   \n",
       "\n",
       "  Neighborhood Councils (Certified) Council Districts  Zip Codes  \\\n",
       "0                               NaN               NaN        NaN   \n",
       "1                               NaN               NaN        NaN   \n",
       "2                               NaN               NaN        NaN   \n",
       "3                               NaN               NaN        NaN   \n",
       "4                               NaN               NaN        NaN   \n",
       "5                               NaN               NaN        NaN   \n",
       "\n",
       "   LA Specific Plans  Precinct Boundaries  Census Tracts  \n",
       "0                NaN                  NaN            NaN  \n",
       "1                NaN                  NaN            NaN  \n",
       "2                NaN                  NaN            NaN  \n",
       "3                NaN                  NaN            NaN  \n",
       "4                NaN                  NaN            NaN  \n",
       "5                NaN                  NaN            NaN  \n",
       "\n",
       "[6 rows x 22 columns]"
      ]
     },
     "execution_count": 3,
     "metadata": {},
     "output_type": "execute_result"
    }
   ],
   "source": [
    "metro_bike_trip_df =  pd.read_csv(\"https://data.lacity.org/api/views/sii9-rjps/rows.csv?accessType=DOWNLOAD\")\n",
    "metro_bike_trip_df.head(6)"
   ]
  },
  {
   "cell_type": "code",
   "execution_count": 4,
   "metadata": {},
   "outputs": [
    {
     "data": {
      "text/html": [
       "<div>\n",
       "<style scoped>\n",
       "    .dataframe tbody tr th:only-of-type {\n",
       "        vertical-align: middle;\n",
       "    }\n",
       "\n",
       "    .dataframe tbody tr th {\n",
       "        vertical-align: top;\n",
       "    }\n",
       "\n",
       "    .dataframe thead th {\n",
       "        text-align: right;\n",
       "    }\n",
       "</style>\n",
       "<table border=\"1\" class=\"dataframe\">\n",
       "  <thead>\n",
       "    <tr style=\"text-align: right;\">\n",
       "      <th></th>\n",
       "      <th>Trip_ID</th>\n",
       "      <th>Duration</th>\n",
       "      <th>Start_Time</th>\n",
       "      <th>End_Time</th>\n",
       "      <th>Starting_Station_ID</th>\n",
       "      <th>Starting_Station_Latitude</th>\n",
       "      <th>Starting_Station_Longitude</th>\n",
       "      <th>Ending_Station_ID</th>\n",
       "      <th>Ending_Station_Latitude</th>\n",
       "      <th>Ending_Station_Longitude</th>\n",
       "      <th>...</th>\n",
       "      <th>Trip_Route_Category</th>\n",
       "      <th>Passholder_Type</th>\n",
       "      <th>Starting_Lat-Long</th>\n",
       "      <th>Ending_Lat-Long</th>\n",
       "      <th>Neighborhood_Councils_(Certified)</th>\n",
       "      <th>Council_Districts</th>\n",
       "      <th>Zip_Codes</th>\n",
       "      <th>LA_Specific_Plans</th>\n",
       "      <th>Precinct_Boundaries</th>\n",
       "      <th>Census_Tracts</th>\n",
       "    </tr>\n",
       "  </thead>\n",
       "  <tbody>\n",
       "    <tr>\n",
       "      <th>0</th>\n",
       "      <td>18222186</td>\n",
       "      <td>15060</td>\n",
       "      <td>01/19/2017 05:05:00 PM</td>\n",
       "      <td>01/19/2017 09:16:00 PM</td>\n",
       "      <td>3031.0</td>\n",
       "      <td>34.044701</td>\n",
       "      <td>-118.252441</td>\n",
       "      <td>3000.0</td>\n",
       "      <td>NaN</td>\n",
       "      <td>NaN</td>\n",
       "      <td>...</td>\n",
       "      <td>One Way</td>\n",
       "      <td>Walk-up</td>\n",
       "      <td>NaN</td>\n",
       "      <td>NaN</td>\n",
       "      <td>NaN</td>\n",
       "      <td>NaN</td>\n",
       "      <td>NaN</td>\n",
       "      <td>NaN</td>\n",
       "      <td>NaN</td>\n",
       "      <td>NaN</td>\n",
       "    </tr>\n",
       "    <tr>\n",
       "      <th>1</th>\n",
       "      <td>9518671</td>\n",
       "      <td>77160</td>\n",
       "      <td>10/09/2016 02:37:00 PM</td>\n",
       "      <td>10/10/2016 12:03:00 PM</td>\n",
       "      <td>NaN</td>\n",
       "      <td>NaN</td>\n",
       "      <td>NaN</td>\n",
       "      <td>3000.0</td>\n",
       "      <td>NaN</td>\n",
       "      <td>NaN</td>\n",
       "      <td>...</td>\n",
       "      <td>One Way</td>\n",
       "      <td>Monthly Pass</td>\n",
       "      <td>NaN</td>\n",
       "      <td>NaN</td>\n",
       "      <td>NaN</td>\n",
       "      <td>NaN</td>\n",
       "      <td>NaN</td>\n",
       "      <td>NaN</td>\n",
       "      <td>NaN</td>\n",
       "      <td>NaN</td>\n",
       "    </tr>\n",
       "    <tr>\n",
       "      <th>2</th>\n",
       "      <td>20444932</td>\n",
       "      <td>86400</td>\n",
       "      <td>02/18/2017 10:15:00 AM</td>\n",
       "      <td>02/20/2017 03:20:00 PM</td>\n",
       "      <td>3026.0</td>\n",
       "      <td>34.063179</td>\n",
       "      <td>-118.245880</td>\n",
       "      <td>3000.0</td>\n",
       "      <td>NaN</td>\n",
       "      <td>NaN</td>\n",
       "      <td>...</td>\n",
       "      <td>One Way</td>\n",
       "      <td>Walk-up</td>\n",
       "      <td>NaN</td>\n",
       "      <td>NaN</td>\n",
       "      <td>NaN</td>\n",
       "      <td>NaN</td>\n",
       "      <td>NaN</td>\n",
       "      <td>NaN</td>\n",
       "      <td>NaN</td>\n",
       "      <td>NaN</td>\n",
       "    </tr>\n",
       "    <tr>\n",
       "      <th>3</th>\n",
       "      <td>20905031</td>\n",
       "      <td>18840</td>\n",
       "      <td>02/27/2017 12:26:00 PM</td>\n",
       "      <td>02/27/2017 05:40:00 PM</td>\n",
       "      <td>3023.0</td>\n",
       "      <td>34.050911</td>\n",
       "      <td>-118.240967</td>\n",
       "      <td>3000.0</td>\n",
       "      <td>NaN</td>\n",
       "      <td>NaN</td>\n",
       "      <td>...</td>\n",
       "      <td>One Way</td>\n",
       "      <td>Walk-up</td>\n",
       "      <td>NaN</td>\n",
       "      <td>NaN</td>\n",
       "      <td>NaN</td>\n",
       "      <td>NaN</td>\n",
       "      <td>NaN</td>\n",
       "      <td>NaN</td>\n",
       "      <td>NaN</td>\n",
       "      <td>NaN</td>\n",
       "    </tr>\n",
       "    <tr>\n",
       "      <th>4</th>\n",
       "      <td>21031476</td>\n",
       "      <td>86400</td>\n",
       "      <td>02/27/2017 08:26:00 PM</td>\n",
       "      <td>03/01/2017 09:49:00 AM</td>\n",
       "      <td>3008.0</td>\n",
       "      <td>34.046612</td>\n",
       "      <td>-118.262733</td>\n",
       "      <td>3000.0</td>\n",
       "      <td>NaN</td>\n",
       "      <td>NaN</td>\n",
       "      <td>...</td>\n",
       "      <td>One Way</td>\n",
       "      <td>Flex Pass</td>\n",
       "      <td>NaN</td>\n",
       "      <td>NaN</td>\n",
       "      <td>NaN</td>\n",
       "      <td>NaN</td>\n",
       "      <td>NaN</td>\n",
       "      <td>NaN</td>\n",
       "      <td>NaN</td>\n",
       "      <td>NaN</td>\n",
       "    </tr>\n",
       "  </tbody>\n",
       "</table>\n",
       "<p>5 rows × 22 columns</p>\n",
       "</div>"
      ],
      "text/plain": [
       "    Trip_ID  Duration              Start_Time                End_Time  \\\n",
       "0  18222186     15060  01/19/2017 05:05:00 PM  01/19/2017 09:16:00 PM   \n",
       "1   9518671     77160  10/09/2016 02:37:00 PM  10/10/2016 12:03:00 PM   \n",
       "2  20444932     86400  02/18/2017 10:15:00 AM  02/20/2017 03:20:00 PM   \n",
       "3  20905031     18840  02/27/2017 12:26:00 PM  02/27/2017 05:40:00 PM   \n",
       "4  21031476     86400  02/27/2017 08:26:00 PM  03/01/2017 09:49:00 AM   \n",
       "\n",
       "   Starting_Station_ID  Starting_Station_Latitude  Starting_Station_Longitude  \\\n",
       "0               3031.0                  34.044701                 -118.252441   \n",
       "1                  NaN                        NaN                         NaN   \n",
       "2               3026.0                  34.063179                 -118.245880   \n",
       "3               3023.0                  34.050911                 -118.240967   \n",
       "4               3008.0                  34.046612                 -118.262733   \n",
       "\n",
       "   Ending_Station_ID  Ending_Station_Latitude  Ending_Station_Longitude  ...  \\\n",
       "0             3000.0                      NaN                       NaN  ...   \n",
       "1             3000.0                      NaN                       NaN  ...   \n",
       "2             3000.0                      NaN                       NaN  ...   \n",
       "3             3000.0                      NaN                       NaN  ...   \n",
       "4             3000.0                      NaN                       NaN  ...   \n",
       "\n",
       "   Trip_Route_Category  Passholder_Type Starting_Lat-Long Ending_Lat-Long  \\\n",
       "0              One Way          Walk-up               NaN             NaN   \n",
       "1              One Way     Monthly Pass               NaN             NaN   \n",
       "2              One Way          Walk-up               NaN             NaN   \n",
       "3              One Way          Walk-up               NaN             NaN   \n",
       "4              One Way        Flex Pass               NaN             NaN   \n",
       "\n",
       "  Neighborhood_Councils_(Certified) Council_Districts  Zip_Codes  \\\n",
       "0                               NaN               NaN        NaN   \n",
       "1                               NaN               NaN        NaN   \n",
       "2                               NaN               NaN        NaN   \n",
       "3                               NaN               NaN        NaN   \n",
       "4                               NaN               NaN        NaN   \n",
       "\n",
       "   LA_Specific_Plans  Precinct_Boundaries  Census_Tracts  \n",
       "0                NaN                  NaN            NaN  \n",
       "1                NaN                  NaN            NaN  \n",
       "2                NaN                  NaN            NaN  \n",
       "3                NaN                  NaN            NaN  \n",
       "4                NaN                  NaN            NaN  \n",
       "\n",
       "[5 rows x 22 columns]"
      ]
     },
     "execution_count": 4,
     "metadata": {},
     "output_type": "execute_result"
    }
   ],
   "source": [
    "#Replacing the column name space with \"_\" for easier name conversion\n",
    "metro_bike_trip_df.columns = metro_bike_trip_df.columns.str.replace(' ','_')\n",
    "metro_bike_trip_df.head(5)"
   ]
  },
  {
   "cell_type": "code",
   "execution_count": 5,
   "metadata": {},
   "outputs": [
    {
     "name": "stdout",
     "output_type": "stream",
     "text": [
      "<class 'pandas.core.frame.DataFrame'>\n",
      "RangeIndex: 132427 entries, 0 to 132426\n",
      "Data columns (total 22 columns):\n",
      "Trip_ID                              132427 non-null int64\n",
      "Duration                             132427 non-null int64\n",
      "Start_Time                           132427 non-null object\n",
      "End_Time                             132427 non-null object\n",
      "Starting_Station_ID                  132408 non-null float64\n",
      "Starting_Station_Latitude            132379 non-null float64\n",
      "Starting_Station_Longitude           132379 non-null float64\n",
      "Ending_Station_ID                    132331 non-null float64\n",
      "Ending_Station_Latitude              131376 non-null float64\n",
      "Ending_Station_Longitude             131376 non-null float64\n",
      "Bike_ID                              132417 non-null float64\n",
      "Plan_Duration                        131661 non-null float64\n",
      "Trip_Route_Category                  132427 non-null object\n",
      "Passholder_Type                      132427 non-null object\n",
      "Starting_Lat-Long                    98622 non-null object\n",
      "Ending_Lat-Long                      131376 non-null object\n",
      "Neighborhood_Councils_(Certified)    98590 non-null float64\n",
      "Council_Districts                    98590 non-null float64\n",
      "Zip_Codes                            98590 non-null float64\n",
      "LA_Specific_Plans                    15819 non-null float64\n",
      "Precinct_Boundaries                  131328 non-null float64\n",
      "Census_Tracts                        131328 non-null float64\n",
      "dtypes: float64(14), int64(2), object(6)\n",
      "memory usage: 22.2+ MB\n"
     ]
    }
   ],
   "source": [
    "metro_bike_trip_df.info()"
   ]
  },
  {
   "cell_type": "code",
   "execution_count": 6,
   "metadata": {},
   "outputs": [
    {
     "name": "stdout",
     "output_type": "stream",
     "text": [
      "shape: (132427, 22)\n"
     ]
    }
   ],
   "source": [
    "print(\"shape:\", metro_bike_trip_df.shape)"
   ]
  },
  {
   "cell_type": "code",
   "execution_count": 7,
   "metadata": {},
   "outputs": [
    {
     "name": "stdout",
     "output_type": "stream",
     "text": [
      "<class 'pandas.core.frame.DataFrame'>\n",
      "RangeIndex: 132427 entries, 0 to 132426\n",
      "Data columns (total 22 columns):\n",
      "Trip_ID                              132427 non-null int64\n",
      "Duration                             132427 non-null int64\n",
      "Start_Time                           132427 non-null datetime64[ns]\n",
      "End_Time                             132427 non-null datetime64[ns]\n",
      "Starting_Station_ID                  132408 non-null float64\n",
      "Starting_Station_Latitude            132379 non-null float64\n",
      "Starting_Station_Longitude           132379 non-null float64\n",
      "Ending_Station_ID                    132331 non-null float64\n",
      "Ending_Station_Latitude              131376 non-null float64\n",
      "Ending_Station_Longitude             131376 non-null float64\n",
      "Bike_ID                              132417 non-null float64\n",
      "Plan_Duration                        131661 non-null float64\n",
      "Trip_Route_Category                  132427 non-null object\n",
      "Passholder_Type                      132427 non-null object\n",
      "Starting_Lat-Long                    98622 non-null object\n",
      "Ending_Lat-Long                      131376 non-null object\n",
      "Neighborhood_Councils_(Certified)    98590 non-null float64\n",
      "Council_Districts                    98590 non-null float64\n",
      "Zip_Codes                            98590 non-null float64\n",
      "LA_Specific_Plans                    15819 non-null float64\n",
      "Precinct_Boundaries                  131328 non-null float64\n",
      "Census_Tracts                        131328 non-null float64\n",
      "dtypes: datetime64[ns](2), float64(14), int64(2), object(4)\n",
      "memory usage: 22.2+ MB\n"
     ]
    }
   ],
   "source": [
    "# Changing Start and End Time values to datetime format\n",
    "metro_bike_trip_df['Start_Time']=pd.to_datetime(metro_bike_trip_df['Start_Time'])\n",
    "metro_bike_trip_df['End_Time']=pd.to_datetime(metro_bike_trip_df['End_Time'])\n",
    "metro_bike_trip_df.info()"
   ]
  },
  {
   "cell_type": "markdown",
   "metadata": {},
   "source": [
    "# Data Cleaning"
   ]
  },
  {
   "cell_type": "code",
   "execution_count": 8,
   "metadata": {},
   "outputs": [
    {
     "data": {
      "text/plain": [
       "Trip_ID                                   0\n",
       "Duration                                  0\n",
       "Start_Time                                0\n",
       "End_Time                                  0\n",
       "Starting_Station_ID                      19\n",
       "Starting_Station_Latitude                48\n",
       "Starting_Station_Longitude               48\n",
       "Ending_Station_ID                        96\n",
       "Ending_Station_Latitude                1051\n",
       "Ending_Station_Longitude               1051\n",
       "Bike_ID                                  10\n",
       "Plan_Duration                           766\n",
       "Trip_Route_Category                       0\n",
       "Passholder_Type                           0\n",
       "Starting_Lat-Long                     33805\n",
       "Ending_Lat-Long                        1051\n",
       "Neighborhood_Councils_(Certified)     33837\n",
       "Council_Districts                     33837\n",
       "Zip_Codes                             33837\n",
       "LA_Specific_Plans                    116608\n",
       "Precinct_Boundaries                    1099\n",
       "Census_Tracts                          1099\n",
       "dtype: int64"
      ]
     },
     "execution_count": 8,
     "metadata": {},
     "output_type": "execute_result"
    }
   ],
   "source": [
    "# Finding the null values in each column\n",
    "metro_bike_trip_df.isnull().sum()"
   ]
  },
  {
   "cell_type": "code",
   "execution_count": 9,
   "metadata": {},
   "outputs": [
    {
     "data": {
      "text/plain": [
       "<matplotlib.axes._subplots.AxesSubplot at 0x204302be7b8>"
      ]
     },
     "execution_count": 9,
     "metadata": {},
     "output_type": "execute_result"
    },
    {
     "data": {
      "image/png": "[encoded data removed]",
      "text/plain": [
       "<Figure size 432x288 with 1 Axes>"
      ]
     },
     "metadata": {
      "needs_background": "light"
     },
     "output_type": "display_data"
    }
   ],
   "source": [
    "# Visually representing the null values of different columns using heatmap\n",
    "sns.heatmap(metro_bike_trip_df.isnull(),yticklabels=False,cbar=False,cmap='viridis')\n"
   ]
  },
  {
   "cell_type": "code",
   "execution_count": 10,
   "metadata": {},
   "outputs": [],
   "source": [
    "# Dropping below columns due to lack of data and more of null values\n",
    "metro_bike_trip_df.drop(columns=['Neighborhood_Councils_(Certified)',\n",
    "                 'Council_Districts',\n",
    "                 'Zip_Codes',\n",
    "                 'LA_Specific_Plans',\n",
    "                 'Precinct_Boundaries',\n",
    "                 'Census_Tracts'],\n",
    "       inplace=True)"
   ]
  },
  {
   "cell_type": "code",
   "execution_count": 11,
   "metadata": {},
   "outputs": [
    {
     "name": "stdout",
     "output_type": "stream",
     "text": [
      "<class 'pandas.core.frame.DataFrame'>\n",
      "Int64Index: 97825 entries, 2088 to 132426\n",
      "Data columns (total 16 columns):\n",
      "Trip_ID                       97825 non-null int64\n",
      "Duration                      97825 non-null int64\n",
      "Start_Time                    97825 non-null datetime64[ns]\n",
      "End_Time                      97825 non-null datetime64[ns]\n",
      "Starting_Station_ID           97825 non-null float64\n",
      "Starting_Station_Latitude     97825 non-null float64\n",
      "Starting_Station_Longitude    97825 non-null float64\n",
      "Ending_Station_ID             97825 non-null float64\n",
      "Ending_Station_Latitude       97825 non-null float64\n",
      "Ending_Station_Longitude      97825 non-null float64\n",
      "Bike_ID                       97825 non-null float64\n",
      "Plan_Duration                 97825 non-null float64\n",
      "Trip_Route_Category           97825 non-null object\n",
      "Passholder_Type               97825 non-null object\n",
      "Starting_Lat-Long             97825 non-null object\n",
      "Ending_Lat-Long               97825 non-null object\n",
      "dtypes: datetime64[ns](2), float64(8), int64(2), object(4)\n",
      "memory usage: 12.7+ MB\n"
     ]
    }
   ],
   "source": [
    "# Droping the na values from the metro bike trip data\n",
    "metro_bike_trip_df = metro_bike_trip_df.dropna()\n",
    "metro_bike_trip_df.info()"
   ]
  },
  {
   "cell_type": "code",
   "execution_count": 12,
   "metadata": {},
   "outputs": [
    {
     "data": {
      "text/html": [
       "<div>\n",
       "<style scoped>\n",
       "    .dataframe tbody tr th:only-of-type {\n",
       "        vertical-align: middle;\n",
       "    }\n",
       "\n",
       "    .dataframe tbody tr th {\n",
       "        vertical-align: top;\n",
       "    }\n",
       "\n",
       "    .dataframe thead th {\n",
       "        text-align: right;\n",
       "    }\n",
       "</style>\n",
       "<table border=\"1\" class=\"dataframe\">\n",
       "  <thead>\n",
       "    <tr style=\"text-align: right;\">\n",
       "      <th></th>\n",
       "      <th>Trip_ID</th>\n",
       "      <th>Duration</th>\n",
       "      <th>Start_Time</th>\n",
       "      <th>End_Time</th>\n",
       "      <th>Starting_Station_ID</th>\n",
       "      <th>Starting_Station_Latitude</th>\n",
       "      <th>Starting_Station_Longitude</th>\n",
       "      <th>Ending_Station_ID</th>\n",
       "      <th>Ending_Station_Latitude</th>\n",
       "      <th>Ending_Station_Longitude</th>\n",
       "      <th>Bike_ID</th>\n",
       "      <th>Plan_Duration</th>\n",
       "      <th>Trip_Route_Category</th>\n",
       "      <th>Passholder_Type</th>\n",
       "      <th>Starting_Lat-Long</th>\n",
       "      <th>Ending_Lat-Long</th>\n",
       "    </tr>\n",
       "  </thead>\n",
       "  <tbody>\n",
       "    <tr>\n",
       "      <th>2088</th>\n",
       "      <td>2023364</td>\n",
       "      <td>1980</td>\n",
       "      <td>2016-07-08 09:24:00</td>\n",
       "      <td>2016-07-08 09:57:00</td>\n",
       "      <td>3045</td>\n",
       "      <td>34.028511</td>\n",
       "      <td>-118.25667</td>\n",
       "      <td>3045</td>\n",
       "      <td>34.028511</td>\n",
       "      <td>-118.25667</td>\n",
       "      <td>5833</td>\n",
       "      <td>30.0</td>\n",
       "      <td>Round Trip</td>\n",
       "      <td>Monthly Pass</td>\n",
       "      <td>(34.028511, -118.25667)</td>\n",
       "      <td>(34.028511, -118.25667)</td>\n",
       "    </tr>\n",
       "    <tr>\n",
       "      <th>2089</th>\n",
       "      <td>2027211</td>\n",
       "      <td>180</td>\n",
       "      <td>2016-07-08 10:40:00</td>\n",
       "      <td>2016-07-08 10:43:00</td>\n",
       "      <td>4108</td>\n",
       "      <td>0.000000</td>\n",
       "      <td>0.00000</td>\n",
       "      <td>4108</td>\n",
       "      <td>0.000000</td>\n",
       "      <td>0.00000</td>\n",
       "      <td>6065</td>\n",
       "      <td>30.0</td>\n",
       "      <td>Round Trip</td>\n",
       "      <td>Monthly Pass</td>\n",
       "      <td>(0.0, 0.0)</td>\n",
       "      <td>(0.0, 0.0)</td>\n",
       "    </tr>\n",
       "    <tr>\n",
       "      <th>2090</th>\n",
       "      <td>2035311</td>\n",
       "      <td>780</td>\n",
       "      <td>2016-07-08 12:42:00</td>\n",
       "      <td>2016-07-08 12:55:00</td>\n",
       "      <td>3029</td>\n",
       "      <td>34.048851</td>\n",
       "      <td>-118.24642</td>\n",
       "      <td>3029</td>\n",
       "      <td>34.048851</td>\n",
       "      <td>-118.24642</td>\n",
       "      <td>6011</td>\n",
       "      <td>0.0</td>\n",
       "      <td>Round Trip</td>\n",
       "      <td>Walk-up</td>\n",
       "      <td>(34.048851, -118.24642)</td>\n",
       "      <td>(34.048851, -118.24642)</td>\n",
       "    </tr>\n",
       "    <tr>\n",
       "      <th>2091</th>\n",
       "      <td>2182651</td>\n",
       "      <td>4440</td>\n",
       "      <td>2016-07-09 19:08:00</td>\n",
       "      <td>2016-07-09 20:22:00</td>\n",
       "      <td>3045</td>\n",
       "      <td>34.028511</td>\n",
       "      <td>-118.25667</td>\n",
       "      <td>3045</td>\n",
       "      <td>34.028511</td>\n",
       "      <td>-118.25667</td>\n",
       "      <td>6623</td>\n",
       "      <td>30.0</td>\n",
       "      <td>Round Trip</td>\n",
       "      <td>Monthly Pass</td>\n",
       "      <td>(34.028511, -118.25667)</td>\n",
       "      <td>(34.028511, -118.25667)</td>\n",
       "    </tr>\n",
       "    <tr>\n",
       "      <th>2092</th>\n",
       "      <td>2286870</td>\n",
       "      <td>5220</td>\n",
       "      <td>2016-07-10 10:56:00</td>\n",
       "      <td>2016-07-10 12:23:00</td>\n",
       "      <td>3045</td>\n",
       "      <td>34.028511</td>\n",
       "      <td>-118.25667</td>\n",
       "      <td>3045</td>\n",
       "      <td>34.028511</td>\n",
       "      <td>-118.25667</td>\n",
       "      <td>6210</td>\n",
       "      <td>30.0</td>\n",
       "      <td>Round Trip</td>\n",
       "      <td>Monthly Pass</td>\n",
       "      <td>(34.028511, -118.25667)</td>\n",
       "      <td>(34.028511, -118.25667)</td>\n",
       "    </tr>\n",
       "  </tbody>\n",
       "</table>\n",
       "</div>"
      ],
      "text/plain": [
       "      Trip_ID  Duration          Start_Time            End_Time  \\\n",
       "2088  2023364      1980 2016-07-08 09:24:00 2016-07-08 09:57:00   \n",
       "2089  2027211       180 2016-07-08 10:40:00 2016-07-08 10:43:00   \n",
       "2090  2035311       780 2016-07-08 12:42:00 2016-07-08 12:55:00   \n",
       "2091  2182651      4440 2016-07-09 19:08:00 2016-07-09 20:22:00   \n",
       "2092  2286870      5220 2016-07-10 10:56:00 2016-07-10 12:23:00   \n",
       "\n",
       "      Starting_Station_ID  Starting_Station_Latitude  \\\n",
       "2088                 3045                  34.028511   \n",
       "2089                 4108                   0.000000   \n",
       "2090                 3029                  34.048851   \n",
       "2091                 3045                  34.028511   \n",
       "2092                 3045                  34.028511   \n",
       "\n",
       "      Starting_Station_Longitude  Ending_Station_ID  Ending_Station_Latitude  \\\n",
       "2088                  -118.25667               3045                34.028511   \n",
       "2089                     0.00000               4108                 0.000000   \n",
       "2090                  -118.24642               3029                34.048851   \n",
       "2091                  -118.25667               3045                34.028511   \n",
       "2092                  -118.25667               3045                34.028511   \n",
       "\n",
       "      Ending_Station_Longitude  Bike_ID  Plan_Duration Trip_Route_Category  \\\n",
       "2088                -118.25667     5833           30.0          Round Trip   \n",
       "2089                   0.00000     6065           30.0          Round Trip   \n",
       "2090                -118.24642     6011            0.0          Round Trip   \n",
       "2091                -118.25667     6623           30.0          Round Trip   \n",
       "2092                -118.25667     6210           30.0          Round Trip   \n",
       "\n",
       "     Passholder_Type        Starting_Lat-Long          Ending_Lat-Long  \n",
       "2088    Monthly Pass  (34.028511, -118.25667)  (34.028511, -118.25667)  \n",
       "2089    Monthly Pass               (0.0, 0.0)               (0.0, 0.0)  \n",
       "2090         Walk-up  (34.048851, -118.24642)  (34.048851, -118.24642)  \n",
       "2091    Monthly Pass  (34.028511, -118.25667)  (34.028511, -118.25667)  \n",
       "2092    Monthly Pass  (34.028511, -118.25667)  (34.028511, -118.25667)  "
      ]
     },
     "execution_count": 12,
     "metadata": {},
     "output_type": "execute_result"
    }
   ],
   "source": [
    "# Change format of station and bike ID's to integer.\n",
    "metro_bike_trip_df['Starting_Station_ID'] = metro_bike_trip_df.Starting_Station_ID.astype(int)\n",
    "metro_bike_trip_df['Ending_Station_ID'] = metro_bike_trip_df.Ending_Station_ID.astype(int)\n",
    "metro_bike_trip_df['Bike_ID'] = metro_bike_trip_df.Bike_ID.astype(int)\n",
    "metro_bike_trip_df.head(5)"
   ]
  },
  {
   "cell_type": "code",
   "execution_count": 13,
   "metadata": {},
   "outputs": [
    {
     "name": "stdout",
     "output_type": "stream",
     "text": [
      "Total number of Starting stations: 64\n",
      "Total number of Ending stations: 64\n",
      "Total number of bikes: 762\n"
     ]
    }
   ],
   "source": [
    "# Now we will find the total number of stations and total number of bikes \n",
    "print(\"Total number of Starting stations:\", metro_bike_trip_df.Starting_Station_ID.nunique())\n",
    "print(\"Total number of Ending stations:\", metro_bike_trip_df.Ending_Station_ID.nunique())\n",
    "print(\"Total number of bikes:\",metro_bike_trip_df.Bike_ID.nunique())"
   ]
  },
  {
   "cell_type": "markdown",
   "metadata": {},
   "source": [
    "# Performing Exploratory Data Analysis for the Bike Trip Data"
   ]
  },
  {
   "cell_type": "code",
   "execution_count": 14,
   "metadata": {},
   "outputs": [
    {
     "data": {
      "image/png": "[encoded data removed]",
      "text/plain": [
       "<Figure size 432x288 with 1 Axes>"
      ]
     },
     "metadata": {
      "needs_background": "light"
     },
     "output_type": "display_data"
    }
   ],
   "source": [
    "# Finding the trip route category and ploting it in the form of bar graph\n",
    "metro_bike_trip_df.Trip_Route_Category.value_counts().plot(kind='bar')\n",
    "plt.show()"
   ]
  },
  {
   "cell_type": "markdown",
   "metadata": {},
   "source": [
    "#### As we can see the maximum trip is one way which basically means people usually start at one location and end on different location.  "
   ]
  },
  {
   "cell_type": "code",
   "execution_count": 15,
   "metadata": {},
   "outputs": [],
   "source": [
    "#Busiest Bike by Times \n",
    "bike_use_df = pd.DataFrame()\n",
    "bike_use_df = metro_bike_trip_df.groupby(['Bike_ID']).size().reset_index(name = 'Number of Times Used')\n",
    "bike_use_df = bike_use_df.sort_values('Number of Times Used', ascending = False)\n",
    "bike_use_df = bike_use_df[:10]\n",
    "bike_use_df['Bike_ID'] = bike_use_df['Bike_ID'].astype(str)\n",
    "bike_use_df['Bike_ID'] = ('Bike ' + bike_use_df['Bike_ID'])\n",
    "bike_use_df = bike_use_df.reset_index()"
   ]
  },
  {
   "cell_type": "code",
   "execution_count": 16,
   "metadata": {},
   "outputs": [
    {
     "data": {
      "image/png": "[encoded data removed]",
      "text/plain": [
       "<Figure size 432x288 with 1 Axes>"
      ]
     },
     "metadata": {
      "needs_background": "light"
     },
     "output_type": "display_data"
    }
   ],
   "source": [
    "#Visual of most used bike based on Number of Trips\n",
    "g = sns.barplot('Number of Times Used','Bike_ID', data = bike_use_df)\n",
    "plt.title(\"Busiest Bike by Times Used\")\n",
    "for index, row in bike_use_df.iterrows():\n",
    "    g.text(row['Number of Times Used']-30,index,row['Number of Times Used'], \n",
    "             color='white', ha=\"center\",fontsize = 10)\n",
    "plt.show()"
   ]
  },
  {
   "cell_type": "markdown",
   "metadata": {},
   "source": [
    "#### We found the most used bikes, now using the most used bike we will find the popular starting and ending location."
   ]
  },
  {
   "cell_type": "code",
   "execution_count": 17,
   "metadata": {},
   "outputs": [
    {
     "name": "stdout",
     "output_type": "stream",
     "text": [
      "Most used 5 bikes: \n",
      " 4727    220\n",
      "6608    215\n",
      "5839    208\n",
      "6435    204\n",
      "6424    204\n",
      "Name: Bike_ID, dtype: int64\n",
      "\n",
      "Popular 5 Start stations: \n",
      " 3030    3787\n",
      "3069    3715\n",
      "3005    3609\n",
      "3014    3504\n",
      "3031    3450\n",
      "Name: Starting_Station_ID, dtype: int64\n",
      "\n",
      "Popular 5 End stations: \n",
      " 3005    4621\n",
      "3031    4175\n",
      "3014    4091\n",
      "3042    3862\n",
      "3069    3622\n",
      "Name: Ending_Station_ID, dtype: int64\n",
      "\n",
      "The maximum trip duration: 86400\n",
      "\n",
      "The minimum trip duration: 60\n"
     ]
    }
   ],
   "source": [
    "# Finding the most used 5 bikes for maximumn duration  \n",
    "print(\"Most used 5 bikes: \\n\",metro_bike_trip_df.Bike_ID.value_counts().head())\n",
    "\n",
    "#popular start station and end station\n",
    "print(\"\\nPopular 5 Start stations: \\n\",metro_bike_trip_df.Starting_Station_ID.value_counts().head())\n",
    "print(\"\\nPopular 5 End stations: \\n\",metro_bike_trip_df.Ending_Station_ID.value_counts().head())\n",
    "\n",
    "#Finding the maximum and minimum trip duration\n",
    "print(\"\\nThe maximum trip duration:\",metro_bike_trip_df.Duration.max())\n",
    "print(\"\\nThe minimum trip duration:\",metro_bike_trip_df.Duration.min())\n"
   ]
  },
  {
   "cell_type": "markdown",
   "metadata": {},
   "source": [
    "#### Our next job is to find the locations of the stations"
   ]
  },
  {
   "cell_type": "code",
   "execution_count": 18,
   "metadata": {},
   "outputs": [
    {
     "data": {
      "text/html": [
       "<div>\n",
       "<style scoped>\n",
       "    .dataframe tbody tr th:only-of-type {\n",
       "        vertical-align: middle;\n",
       "    }\n",
       "\n",
       "    .dataframe tbody tr th {\n",
       "        vertical-align: top;\n",
       "    }\n",
       "\n",
       "    .dataframe thead th {\n",
       "        text-align: right;\n",
       "    }\n",
       "</style>\n",
       "<table border=\"1\" class=\"dataframe\">\n",
       "  <thead>\n",
       "    <tr style=\"text-align: right;\">\n",
       "      <th></th>\n",
       "      <th>Trip_ID</th>\n",
       "      <th>Duration</th>\n",
       "      <th>Starting_Station_ID</th>\n",
       "      <th>Starting_Station_Latitude</th>\n",
       "      <th>Starting_Station_Longitude</th>\n",
       "      <th>Ending_Station_ID</th>\n",
       "      <th>Ending_Station_Latitude</th>\n",
       "      <th>Ending_Station_Longitude</th>\n",
       "      <th>Bike_ID</th>\n",
       "      <th>Plan_Duration</th>\n",
       "    </tr>\n",
       "  </thead>\n",
       "  <tbody>\n",
       "    <tr>\n",
       "      <th>count</th>\n",
       "      <td>9.782500e+04</td>\n",
       "      <td>97825.000000</td>\n",
       "      <td>97825.000000</td>\n",
       "      <td>97825.000000</td>\n",
       "      <td>97825.000000</td>\n",
       "      <td>97825.000000</td>\n",
       "      <td>97825.000000</td>\n",
       "      <td>97825.000000</td>\n",
       "      <td>97825.000000</td>\n",
       "      <td>97825.000000</td>\n",
       "    </tr>\n",
       "    <tr>\n",
       "      <th>mean</th>\n",
       "      <td>8.451622e+06</td>\n",
       "      <td>1362.632660</td>\n",
       "      <td>3042.013381</td>\n",
       "      <td>34.036438</td>\n",
       "      <td>-118.211313</td>\n",
       "      <td>3041.549686</td>\n",
       "      <td>34.030413</td>\n",
       "      <td>-118.191664</td>\n",
       "      <td>6193.698165</td>\n",
       "      <td>45.293023</td>\n",
       "    </tr>\n",
       "    <tr>\n",
       "      <th>std</th>\n",
       "      <td>4.111857e+06</td>\n",
       "      <td>4684.200072</td>\n",
       "      <td>29.754369</td>\n",
       "      <td>0.615729</td>\n",
       "      <td>2.138390</td>\n",
       "      <td>33.035485</td>\n",
       "      <td>0.754025</td>\n",
       "      <td>2.618753</td>\n",
       "      <td>291.580833</td>\n",
       "      <td>91.142513</td>\n",
       "    </tr>\n",
       "    <tr>\n",
       "      <th>min</th>\n",
       "      <td>1.912818e+06</td>\n",
       "      <td>60.000000</td>\n",
       "      <td>3005.000000</td>\n",
       "      <td>0.000000</td>\n",
       "      <td>-118.270813</td>\n",
       "      <td>3005.000000</td>\n",
       "      <td>0.000000</td>\n",
       "      <td>-118.270813</td>\n",
       "      <td>4727.000000</td>\n",
       "      <td>0.000000</td>\n",
       "    </tr>\n",
       "    <tr>\n",
       "      <th>25%</th>\n",
       "      <td>5.050112e+06</td>\n",
       "      <td>360.000000</td>\n",
       "      <td>3024.000000</td>\n",
       "      <td>34.044170</td>\n",
       "      <td>-118.256980</td>\n",
       "      <td>3022.000000</td>\n",
       "      <td>34.044159</td>\n",
       "      <td>-118.256980</td>\n",
       "      <td>5957.000000</td>\n",
       "      <td>0.000000</td>\n",
       "    </tr>\n",
       "    <tr>\n",
       "      <th>50%</th>\n",
       "      <td>7.080477e+06</td>\n",
       "      <td>600.000000</td>\n",
       "      <td>3038.000000</td>\n",
       "      <td>34.046822</td>\n",
       "      <td>-118.250954</td>\n",
       "      <td>3038.000000</td>\n",
       "      <td>34.046810</td>\n",
       "      <td>-118.251579</td>\n",
       "      <td>6186.000000</td>\n",
       "      <td>30.000000</td>\n",
       "    </tr>\n",
       "    <tr>\n",
       "      <th>75%</th>\n",
       "      <td>1.195715e+07</td>\n",
       "      <td>1080.000000</td>\n",
       "      <td>3063.000000</td>\n",
       "      <td>34.050880</td>\n",
       "      <td>-118.241562</td>\n",
       "      <td>3063.000000</td>\n",
       "      <td>34.050480</td>\n",
       "      <td>-118.238937</td>\n",
       "      <td>6431.000000</td>\n",
       "      <td>30.000000</td>\n",
       "    </tr>\n",
       "    <tr>\n",
       "      <th>max</th>\n",
       "      <td>1.710164e+07</td>\n",
       "      <td>86400.000000</td>\n",
       "      <td>4108.000000</td>\n",
       "      <td>34.064281</td>\n",
       "      <td>0.000000</td>\n",
       "      <td>4108.000000</td>\n",
       "      <td>34.064281</td>\n",
       "      <td>0.000000</td>\n",
       "      <td>6728.000000</td>\n",
       "      <td>365.000000</td>\n",
       "    </tr>\n",
       "  </tbody>\n",
       "</table>\n",
       "</div>"
      ],
      "text/plain": [
       "            Trip_ID      Duration  Starting_Station_ID  \\\n",
       "count  9.782500e+04  97825.000000         97825.000000   \n",
       "mean   8.451622e+06   1362.632660          3042.013381   \n",
       "std    4.111857e+06   4684.200072            29.754369   \n",
       "min    1.912818e+06     60.000000          3005.000000   \n",
       "25%    5.050112e+06    360.000000          3024.000000   \n",
       "50%    7.080477e+06    600.000000          3038.000000   \n",
       "75%    1.195715e+07   1080.000000          3063.000000   \n",
       "max    1.710164e+07  86400.000000          4108.000000   \n",
       "\n",
       "       Starting_Station_Latitude  Starting_Station_Longitude  \\\n",
       "count               97825.000000                97825.000000   \n",
       "mean                   34.036438                 -118.211313   \n",
       "std                     0.615729                    2.138390   \n",
       "min                     0.000000                 -118.270813   \n",
       "25%                    34.044170                 -118.256980   \n",
       "50%                    34.046822                 -118.250954   \n",
       "75%                    34.050880                 -118.241562   \n",
       "max                    34.064281                    0.000000   \n",
       "\n",
       "       Ending_Station_ID  Ending_Station_Latitude  Ending_Station_Longitude  \\\n",
       "count       97825.000000             97825.000000              97825.000000   \n",
       "mean         3041.549686                34.030413               -118.191664   \n",
       "std            33.035485                 0.754025                  2.618753   \n",
       "min          3005.000000                 0.000000               -118.270813   \n",
       "25%          3022.000000                34.044159               -118.256980   \n",
       "50%          3038.000000                34.046810               -118.251579   \n",
       "75%          3063.000000                34.050480               -118.238937   \n",
       "max          4108.000000                34.064281                  0.000000   \n",
       "\n",
       "            Bike_ID  Plan_Duration  \n",
       "count  97825.000000   97825.000000  \n",
       "mean    6193.698165      45.293023  \n",
       "std      291.580833      91.142513  \n",
       "min     4727.000000       0.000000  \n",
       "25%     5957.000000       0.000000  \n",
       "50%     6186.000000      30.000000  \n",
       "75%     6431.000000      30.000000  \n",
       "max     6728.000000     365.000000  "
      ]
     },
     "execution_count": 18,
     "metadata": {},
     "output_type": "execute_result"
    }
   ],
   "source": [
    "metro_bike_trip_df.describe()"
   ]
  },
  {
   "cell_type": "markdown",
   "metadata": {},
   "source": [
    "#### Starting Station Latitude, Starting Station Longitude, Ending Station Latitude & Ending Station Longitude contain zeros that must be treated as missing data. However, there are no zeros or any remaining missing values in Starting Station ID or Ending Station ID, we can use these values to impute the missing data"
   ]
  },
  {
   "cell_type": "code",
   "execution_count": 19,
   "metadata": {},
   "outputs": [
    {
     "name": "stdout",
     "output_type": "stream",
     "text": [
      "4108    32\n",
      "Name: Starting_Station_ID, dtype: int64\n",
      "4108    32\n",
      "Name: Starting_Station_ID, dtype: int64\n",
      "4108    48\n",
      "Name: Ending_Station_ID, dtype: int64\n",
      "4108    48\n",
      "Name: Ending_Station_ID, dtype: int64\n"
     ]
    }
   ],
   "source": [
    "print(metro_bike_trip_df.loc[metro_bike_trip_df['Starting_Station_Latitude']==0]['Starting_Station_ID'].value_counts())\n",
    "print(metro_bike_trip_df.loc[metro_bike_trip_df['Starting_Station_Longitude']==0]['Starting_Station_ID'].value_counts())\n",
    "print(metro_bike_trip_df.loc[metro_bike_trip_df['Ending_Station_Latitude']==0]['Ending_Station_ID'].value_counts())\n",
    "print(metro_bike_trip_df.loc[metro_bike_trip_df['Ending_Station_Longitude']==0]['Ending_Station_ID'].value_counts())\n"
   ]
  },
  {
   "cell_type": "markdown",
   "metadata": {},
   "source": [
    "#### All of the zeros were recorded at Bike Station 4108, there may be some kind of error related to this particular Bike Station. The values of this bike station's latitude and Longitude can be found in any of the complete values and imputed over the zeros."
   ]
  },
  {
   "cell_type": "code",
   "execution_count": 20,
   "metadata": {},
   "outputs": [],
   "source": [
    "stat_4108_lat= metro_bike_trip_df.loc[metro_bike_trip_df['Starting_Station_ID']==4108]['Starting_Station_Latitude'].max() #use max to avoid the zeros\n",
    "stat_4108_long= metro_bike_trip_df.loc[metro_bike_trip_df['Starting_Station_ID']==4108]['Starting_Station_Longitude'].min()\n",
    " #all non-zeroes are the same anyway no need to find and replace\n",
    "metro_bike_trip_df['Starting_Station_Latitude'].replace(0,stat_4108_lat,inplace=True)\n",
    "metro_bike_trip_df['Ending_Station_Latitude'].replace(0,stat_4108_lat,inplace=True)\n",
    "metro_bike_trip_df['Starting_Station_Longitude'].replace(0,stat_4108_long,inplace=True)\n",
    "metro_bike_trip_df['Ending_Station_Longitude'].replace(0,stat_4108_long,inplace=True)"
   ]
  },
  {
   "cell_type": "code",
   "execution_count": 21,
   "metadata": {},
   "outputs": [
    {
     "data": {
      "text/html": [
       "<div>\n",
       "<style scoped>\n",
       "    .dataframe tbody tr th:only-of-type {\n",
       "        vertical-align: middle;\n",
       "    }\n",
       "\n",
       "    .dataframe tbody tr th {\n",
       "        vertical-align: top;\n",
       "    }\n",
       "\n",
       "    .dataframe thead th {\n",
       "        text-align: right;\n",
       "    }\n",
       "</style>\n",
       "<table border=\"1\" class=\"dataframe\">\n",
       "  <thead>\n",
       "    <tr style=\"text-align: right;\">\n",
       "      <th></th>\n",
       "      <th>Trip_ID</th>\n",
       "      <th>Duration</th>\n",
       "      <th>Starting_Station_ID</th>\n",
       "      <th>Starting_Station_Latitude</th>\n",
       "      <th>Starting_Station_Longitude</th>\n",
       "      <th>Ending_Station_ID</th>\n",
       "      <th>Ending_Station_Latitude</th>\n",
       "      <th>Ending_Station_Longitude</th>\n",
       "      <th>Bike_ID</th>\n",
       "      <th>Plan_Duration</th>\n",
       "    </tr>\n",
       "  </thead>\n",
       "  <tbody>\n",
       "    <tr>\n",
       "      <th>count</th>\n",
       "      <td>9.782500e+04</td>\n",
       "      <td>97825.000000</td>\n",
       "      <td>97825.000000</td>\n",
       "      <td>97825.000000</td>\n",
       "      <td>97825.000000</td>\n",
       "      <td>97825.000000</td>\n",
       "      <td>97825.000000</td>\n",
       "      <td>97825.000000</td>\n",
       "      <td>97825.000000</td>\n",
       "      <td>97825.000000</td>\n",
       "    </tr>\n",
       "    <tr>\n",
       "      <th>mean</th>\n",
       "      <td>8.451622e+06</td>\n",
       "      <td>1362.632660</td>\n",
       "      <td>3042.013381</td>\n",
       "      <td>34.047568</td>\n",
       "      <td>-118.249991</td>\n",
       "      <td>3041.549686</td>\n",
       "      <td>34.047109</td>\n",
       "      <td>-118.249680</td>\n",
       "      <td>6193.698165</td>\n",
       "      <td>45.293023</td>\n",
       "    </tr>\n",
       "    <tr>\n",
       "      <th>std</th>\n",
       "      <td>4.111857e+06</td>\n",
       "      <td>4684.200072</td>\n",
       "      <td>29.754369</td>\n",
       "      <td>0.006212</td>\n",
       "      <td>0.009726</td>\n",
       "      <td>33.035485</td>\n",
       "      <td>0.006112</td>\n",
       "      <td>0.010059</td>\n",
       "      <td>291.580833</td>\n",
       "      <td>91.142513</td>\n",
       "    </tr>\n",
       "    <tr>\n",
       "      <th>min</th>\n",
       "      <td>1.912818e+06</td>\n",
       "      <td>60.000000</td>\n",
       "      <td>3005.000000</td>\n",
       "      <td>34.025890</td>\n",
       "      <td>-118.270813</td>\n",
       "      <td>3005.000000</td>\n",
       "      <td>34.025890</td>\n",
       "      <td>-118.270813</td>\n",
       "      <td>4727.000000</td>\n",
       "      <td>0.000000</td>\n",
       "    </tr>\n",
       "    <tr>\n",
       "      <th>25%</th>\n",
       "      <td>5.050112e+06</td>\n",
       "      <td>360.000000</td>\n",
       "      <td>3024.000000</td>\n",
       "      <td>34.044170</td>\n",
       "      <td>-118.256980</td>\n",
       "      <td>3022.000000</td>\n",
       "      <td>34.044159</td>\n",
       "      <td>-118.256980</td>\n",
       "      <td>5957.000000</td>\n",
       "      <td>0.000000</td>\n",
       "    </tr>\n",
       "    <tr>\n",
       "      <th>50%</th>\n",
       "      <td>7.080477e+06</td>\n",
       "      <td>600.000000</td>\n",
       "      <td>3038.000000</td>\n",
       "      <td>34.046822</td>\n",
       "      <td>-118.250954</td>\n",
       "      <td>3038.000000</td>\n",
       "      <td>34.046810</td>\n",
       "      <td>-118.251579</td>\n",
       "      <td>6186.000000</td>\n",
       "      <td>30.000000</td>\n",
       "    </tr>\n",
       "    <tr>\n",
       "      <th>75%</th>\n",
       "      <td>1.195715e+07</td>\n",
       "      <td>1080.000000</td>\n",
       "      <td>3063.000000</td>\n",
       "      <td>34.050880</td>\n",
       "      <td>-118.241562</td>\n",
       "      <td>3063.000000</td>\n",
       "      <td>34.050480</td>\n",
       "      <td>-118.238937</td>\n",
       "      <td>6431.000000</td>\n",
       "      <td>30.000000</td>\n",
       "    </tr>\n",
       "    <tr>\n",
       "      <th>max</th>\n",
       "      <td>1.710164e+07</td>\n",
       "      <td>86400.000000</td>\n",
       "      <td>4108.000000</td>\n",
       "      <td>34.064281</td>\n",
       "      <td>-118.231277</td>\n",
       "      <td>4108.000000</td>\n",
       "      <td>34.064281</td>\n",
       "      <td>-118.231277</td>\n",
       "      <td>6728.000000</td>\n",
       "      <td>365.000000</td>\n",
       "    </tr>\n",
       "  </tbody>\n",
       "</table>\n",
       "</div>"
      ],
      "text/plain": [
       "            Trip_ID      Duration  Starting_Station_ID  \\\n",
       "count  9.782500e+04  97825.000000         97825.000000   \n",
       "mean   8.451622e+06   1362.632660          3042.013381   \n",
       "std    4.111857e+06   4684.200072            29.754369   \n",
       "min    1.912818e+06     60.000000          3005.000000   \n",
       "25%    5.050112e+06    360.000000          3024.000000   \n",
       "50%    7.080477e+06    600.000000          3038.000000   \n",
       "75%    1.195715e+07   1080.000000          3063.000000   \n",
       "max    1.710164e+07  86400.000000          4108.000000   \n",
       "\n",
       "       Starting_Station_Latitude  Starting_Station_Longitude  \\\n",
       "count               97825.000000                97825.000000   \n",
       "mean                   34.047568                 -118.249991   \n",
       "std                     0.006212                    0.009726   \n",
       "min                    34.025890                 -118.270813   \n",
       "25%                    34.044170                 -118.256980   \n",
       "50%                    34.046822                 -118.250954   \n",
       "75%                    34.050880                 -118.241562   \n",
       "max                    34.064281                 -118.231277   \n",
       "\n",
       "       Ending_Station_ID  Ending_Station_Latitude  Ending_Station_Longitude  \\\n",
       "count       97825.000000             97825.000000              97825.000000   \n",
       "mean         3041.549686                34.047109               -118.249680   \n",
       "std            33.035485                 0.006112                  0.010059   \n",
       "min          3005.000000                34.025890               -118.270813   \n",
       "25%          3022.000000                34.044159               -118.256980   \n",
       "50%          3038.000000                34.046810               -118.251579   \n",
       "75%          3063.000000                34.050480               -118.238937   \n",
       "max          4108.000000                34.064281               -118.231277   \n",
       "\n",
       "            Bike_ID  Plan_Duration  \n",
       "count  97825.000000   97825.000000  \n",
       "mean    6193.698165      45.293023  \n",
       "std      291.580833      91.142513  \n",
       "min     4727.000000       0.000000  \n",
       "25%     5957.000000       0.000000  \n",
       "50%     6186.000000      30.000000  \n",
       "75%     6431.000000      30.000000  \n",
       "max     6728.000000     365.000000  "
      ]
     },
     "execution_count": 21,
     "metadata": {},
     "output_type": "execute_result"
    }
   ],
   "source": [
    "metro_bike_trip_df.describe()"
   ]
  },
  {
   "cell_type": "markdown",
   "metadata": {},
   "source": [
    "#### The dataset is now free of missing values"
   ]
  },
  {
   "cell_type": "code",
   "execution_count": 22,
   "metadata": {},
   "outputs": [
    {
     "data": {
      "image/png": "[encoded data removed]",
      "text/plain": [
       "<Figure size 1008x360 with 2 Axes>"
      ]
     },
     "metadata": {
      "needs_background": "light"
     },
     "output_type": "display_data"
    }
   ],
   "source": [
    "plt.figure(figsize=(14,5))\n",
    "plt.subplot(1,2,1)\n",
    "plt.scatter(metro_bike_trip_df['Starting_Station_Latitude'],metro_bike_trip_df['Starting_Station_Longitude'],alpha=0.3)\n",
    "plt.title(\"Starting Station Latitude and Longitude\")\n",
    "plt.subplot(1,2,2)\n",
    "plt.scatter(metro_bike_trip_df['Ending_Station_Latitude'],metro_bike_trip_df['Ending_Station_Longitude'],alpha=0.3)\n",
    "plt.title(\"Ending Station Latitude and Longitude\")\n",
    "plt.show()"
   ]
  },
  {
   "cell_type": "markdown",
   "metadata": {},
   "source": [
    "#### Matching plots indicate there are no start points that had no drop off and vice-versa this would seem logical"
   ]
  },
  {
   "cell_type": "code",
   "execution_count": 23,
   "metadata": {},
   "outputs": [
    {
     "data": {
      "text/plain": [
       "True"
      ]
     },
     "execution_count": 23,
     "metadata": {},
     "output_type": "execute_result"
    }
   ],
   "source": [
    "sorted(metro_bike_trip_df['Starting_Station_ID'].unique())==sorted(metro_bike_trip_df['Ending_Station_ID'].unique())"
   ]
  },
  {
   "cell_type": "markdown",
   "metadata": {},
   "source": [
    "#### This confirms that the Starting and Ending Stations sets are identical as expected"
   ]
  },
  {
   "cell_type": "markdown",
   "metadata": {},
   "source": [
    "#### Now visually showing the location of stations on a map"
   ]
  },
  {
   "cell_type": "code",
   "execution_count": 24,
   "metadata": {},
   "outputs": [
    {
     "data": {
      "text/html": [
       "<div style=\"width:100%;\"><div style=\"position:relative;width:100%;height:0;padding-bottom:60%;\"><iframe src=\"data:text/html;charset=utf-8;base64,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\" style=\"position:absolute;width:100%;height:100%;left:0;top:0;border:none !important;\" allowfullscreen webkitallowfullscreen mozallowfullscreen></iframe></div></div>"
      ],
      "text/plain": [
       "<folium.folium.Map at 0x204300e5160>"
      ]
     },
     "execution_count": 24,
     "metadata": {},
     "output_type": "execute_result"
    }
   ],
   "source": [
    "bike_map1=folium.Map([metro_bike_trip_df['Starting_Station_Latitude'].values[0],metro_bike_trip_df['Starting_Station_Longitude'].values[0]])\n",
    "for station in metro_bike_trip_df['Starting_Station_ID'].unique():\n",
    "    lat=metro_bike_trip_df.loc[metro_bike_trip_df['Starting_Station_ID']==station]['Starting_Station_Latitude'].values[0]\n",
    "    lon=metro_bike_trip_df.loc[metro_bike_trip_df['Starting_Station_ID']==station]['Starting_Station_Longitude'].values[0]\n",
    "    marker=folium.Marker([lat,lon],popup=str(station))\n",
    "    marker.add_to(bike_map1)\n",
    "\n",
    "bike_map1"
   ]
  },
  {
   "cell_type": "markdown",
   "metadata": {},
   "source": [
    "#### All the Bike Stations are located in Downtown LA."
   ]
  },
  {
   "cell_type": "code",
   "execution_count": 25,
   "metadata": {},
   "outputs": [
    {
     "data": {
      "image/png": "[encoded data removed]",
      "text/plain": [
       "<Figure size 432x288 with 1 Axes>"
      ]
     },
     "metadata": {
      "needs_background": "light"
     },
     "output_type": "display_data"
    }
   ],
   "source": [
    "# Finding the most popular pick up time of any bike \n",
    "metro_bike_trip_df.Start_Time.dt.hour.value_counts().plot(kind='bar')\n",
    "plt.show()"
   ]
  },
  {
   "cell_type": "markdown",
   "metadata": {},
   "source": [
    "#### Most of the trips start after work hours (between 17.00 and 19.00). Lunch time is also active (between 12.00 and 14.00). It seems everybody sleeps after midnight, between 00.00 and 06.00 is the least active time."
   ]
  },
  {
   "cell_type": "code",
   "execution_count": 26,
   "metadata": {},
   "outputs": [],
   "source": [
    "# Finding the most popular trip\n",
    "trips_df = pd.DataFrame()\n",
    "trips_df = metro_bike_trip_df.groupby(['Starting_Station_ID','Ending_Station_ID']).size().reset_index(name = 'Number of Trips')\n",
    "trips_df = trips_df.sort_values('Number of Trips', ascending = False)\n",
    "trips_df['Starting_Station_ID'] = trips_df['Starting_Station_ID'].astype('str')\n",
    "trips_df['Ending_Station_ID'] = trips_df['Ending_Station_ID'].astype('str')\n",
    "trips_df[\"Trip\"] = trips_df[\"Starting_Station_ID\"] + \" to \" + trips_df[\"Ending_Station_ID\"]\n",
    "trips_df = trips_df[:10]\n",
    "trips_df = trips_df.drop(['Starting_Station_ID', \"Ending_Station_ID\"], axis = 1)\n",
    "trips_df = trips_df.reset_index()"
   ]
  },
  {
   "cell_type": "code",
   "execution_count": 27,
   "metadata": {},
   "outputs": [
    {
     "data": {
      "image/png": "[encoded data removed]",
      "text/plain": [
       "<Figure size 432x288 with 1 Axes>"
      ]
     },
     "metadata": {
      "needs_background": "light"
     },
     "output_type": "display_data"
    }
   ],
   "source": [
    "# Most popular trips\n",
    "g = sns.barplot('Number of Trips','Trip', data = trips_df)\n",
    "plt.title(\"Most Popular Trips\")\n",
    "for index, row in trips_df.iterrows():\n",
    "    g.text(row['Number of Trips']-50,index,row['Number of Trips'], \n",
    "             color='white', ha=\"center\",fontsize = 10)\n",
    "plt.show()"
   ]
  },
  {
   "cell_type": "markdown",
   "metadata": {},
   "source": [
    "#### Since the popular trip are very high, such stations should always be looked after and maintained. Such stations should never go out of bikes as people over there prefer to use bikes instead walking or using any other mode of transport. This will build a strong bike network for the city fo LA.  "
   ]
  },
  {
   "cell_type": "code",
   "execution_count": 28,
   "metadata": {},
   "outputs": [
    {
     "data": {
      "image/png": "[encoded data removed]",
      "text/plain": [
       "<Figure size 432x288 with 1 Axes>"
      ]
     },
     "metadata": {
      "needs_background": "light"
     },
     "output_type": "display_data"
    }
   ],
   "source": [
    "#Finding the trip duration \n",
    "# converting duration in min\n",
    "metro_bike_trip_df['Duration']/=60  \n",
    "metro_bike_trip_df['Duration'].hist(bins=80,range=(0,60))\n",
    "plt.show()"
   ]
  },
  {
   "cell_type": "markdown",
   "metadata": {},
   "source": [
    "#### It seems that majority of the trips are 5-30 minutes long beacuse according to LA metro rides less than 30 min are free for all pass type and after that they charge 1.75 dollar for each 30 min."
   ]
  },
  {
   "cell_type": "markdown",
   "metadata": {},
   "source": [
    "#### We are done with finding the popular bike, popular stations, popular location and popular trip. We will now find the popular passholder or the customer using the bikes and making maximum trips."
   ]
  },
  {
   "cell_type": "code",
   "execution_count": 29,
   "metadata": {},
   "outputs": [
    {
     "data": {
      "text/html": [
       "<div>\n",
       "<style scoped>\n",
       "    .dataframe tbody tr th:only-of-type {\n",
       "        vertical-align: middle;\n",
       "    }\n",
       "\n",
       "    .dataframe tbody tr th {\n",
       "        vertical-align: top;\n",
       "    }\n",
       "\n",
       "    .dataframe thead tr th {\n",
       "        text-align: left;\n",
       "    }\n",
       "\n",
       "    .dataframe thead tr:last-of-type th {\n",
       "        text-align: right;\n",
       "    }\n",
       "</style>\n",
       "<table border=\"1\" class=\"dataframe\">\n",
       "  <thead>\n",
       "    <tr>\n",
       "      <th></th>\n",
       "      <th></th>\n",
       "      <th>Trip_ID</th>\n",
       "    </tr>\n",
       "    <tr>\n",
       "      <th></th>\n",
       "      <th></th>\n",
       "      <th>count</th>\n",
       "    </tr>\n",
       "    <tr>\n",
       "      <th>Passholder_Type</th>\n",
       "      <th>Plan_Duration</th>\n",
       "      <th></th>\n",
       "    </tr>\n",
       "  </thead>\n",
       "  <tbody>\n",
       "    <tr>\n",
       "      <th>Flex Pass</th>\n",
       "      <th>365.0</th>\n",
       "      <td>7.360082</td>\n",
       "    </tr>\n",
       "    <tr>\n",
       "      <th>Monthly Pass</th>\n",
       "      <th>30.0</th>\n",
       "      <td>61.429083</td>\n",
       "    </tr>\n",
       "    <tr>\n",
       "      <th>Walk-up</th>\n",
       "      <th>0.0</th>\n",
       "      <td>31.210836</td>\n",
       "    </tr>\n",
       "  </tbody>\n",
       "</table>\n",
       "</div>"
      ],
      "text/plain": [
       "                                 Trip_ID\n",
       "                                   count\n",
       "Passholder_Type Plan_Duration           \n",
       "Flex Pass       365.0           7.360082\n",
       "Monthly Pass    30.0           61.429083\n",
       "Walk-up         0.0            31.210836"
      ]
     },
     "execution_count": 29,
     "metadata": {},
     "output_type": "execute_result"
    }
   ],
   "source": [
    "#Finding the famous passholder type according to plan duration\n",
    "metro_bike_trip_df[['Trip_ID','Passholder_Type','Plan_Duration']].groupby(['Passholder_Type','Plan_Duration']).agg(['count'])/len(metro_bike_trip_df)*100"
   ]
  },
  {
   "cell_type": "code",
   "execution_count": 30,
   "metadata": {},
   "outputs": [
    {
     "data": {
      "image/png": "[encoded data removed]",
      "text/plain": [
       "<Figure size 432x288 with 1 Axes>"
      ]
     },
     "metadata": {
      "needs_background": "light"
     },
     "output_type": "display_data"
    }
   ],
   "source": [
    "#Visually representing the passholder's type \n",
    "metro_bike_trip_df.Passholder_Type.value_counts().plot(kind=' bar')\n",
    "plt.show()"
   ]
  },
  {
   "cell_type": "markdown",
   "metadata": {},
   "source": [
    "#### People generally prefer taking a monthly pass instead of walk-up and flex pass. We can confirm the above passholder type by calculating the plan duration."
   ]
  },
  {
   "cell_type": "code",
   "execution_count": 31,
   "metadata": {},
   "outputs": [
    {
     "data": {
      "image/png": "[encoded data removed]",
      "text/plain": [
       "<Figure size 432x288 with 1 Axes>"
      ]
     },
     "metadata": {},
     "output_type": "display_data"
    }
   ],
   "source": [
    "# Finding the Plan duration\n",
    "metro_bike_trip_df.Plan_Duration.value_counts().plot(kind  ='pie', autopct='%.2f')\n",
    "plt.show()"
   ]
  },
  {
   "cell_type": "code",
   "execution_count": 32,
   "metadata": {},
   "outputs": [
    {
     "data": {
      "image/png": "[encoded data removed]",
      "text/plain": [
       "<Figure size 1800x720 with 1 Axes>"
      ]
     },
     "metadata": {
      "needs_background": "light"
     },
     "output_type": "display_data"
    },
    {
     "data": {
      "image/png": "[encoded data removed]",
      "text/plain": [
       "<Figure size 1800x720 with 1 Axes>"
      ]
     },
     "metadata": {
      "needs_background": "light"
     },
     "output_type": "display_data"
    },
    {
     "data": {
      "image/png": "[encoded data removed]",
      "text/plain": [
       "<Figure size 1800x720 with 1 Axes>"
      ]
     },
     "metadata": {
      "needs_background": "light"
     },
     "output_type": "display_data"
    }
   ],
   "source": [
    "#Finding the peak time for different passholders\n",
    "#Separating date and time of Start Time and End Time \n",
    "\n",
    "new_dates, new_times = zip(*[(d.date(),d.time()) for d in metro_bike_trip_df['Start_Time']])\n",
    "metro_bike_trip_df = metro_bike_trip_df.assign(new_start_date=new_dates, new_start_time=new_times)\n",
    "\n",
    "new_dates, new_times = zip(*[(d.date(),d.time()) for d in metro_bike_trip_df['End_Time']])\n",
    "metro_bike_trip_df = metro_bike_trip_df.assign(new_end_date=new_dates, new_end_time=new_times)\n",
    "\n",
    "peaktime=pd.DataFrame([(d.hour+d.minute/60) for d in metro_bike_trip_df['new_start_time']])\n",
    "peaktime['Passholder_Type']=metro_bike_trip_df['Passholder_Type']\n",
    "for peak_hour in ['Monthly Pass','Walk-up','Flex Pass']:\n",
    "    (peaktime[peaktime['Passholder_Type']==peak_hour][0]).hist(bins=200,figsize=(25,10))\n",
    "    plt.xlabel('hour of day')\n",
    "    plt.ylabel('count')\n",
    "    plt.title(peak_hour)\n",
    "    plt.show()\n"
   ]
  },
  {
   "cell_type": "markdown",
   "metadata": {},
   "source": [
    "#### With the above graph we can say that the peak time for all the different passholder is almost same just the count of customers differs. "
   ]
  },
  {
   "cell_type": "code",
   "execution_count": 33,
   "metadata": {},
   "outputs": [],
   "source": [
    "# Finding the co relation between different passholder type and  different stations\n",
    "data = list()\n",
    "for ph in [\"Flex Pass\", \"Monthly Pass\", \"Walk-up\"]:\n",
    "    data.append(metro_bike_trip_df.loc[metro_bike_trip_df[\"Passholder_Type\"] == ph, \"Starting_Station_ID\"].dropna().value_counts())\n",
    "\n",
    "stations = pd.concat(data, axis=1, sort=False)\n",
    "station_names = list(stations.index)\n",
    "stations = stations.reset_index(drop=True)\n",
    "stations.columns = [\"Flex Pass\", \"Monthly Pass\", \"Walk-up\"]\n",
    "stations = stations.apply(lambda s: s/s.sum())"
   ]
  },
  {
   "cell_type": "code",
   "execution_count": 34,
   "metadata": {},
   "outputs": [
    {
     "data": {
      "image/png": "[encoded data removed]",
      "text/plain": [
       "<Figure size 432x288 with 2 Axes>"
      ]
     },
     "metadata": {
      "needs_background": "light"
     },
     "output_type": "display_data"
    }
   ],
   "source": [
    "# Correlation Matrix\n",
    "sns.heatmap(stations.corr(), annot=True)\n",
    "plt.show()"
   ]
  },
  {
   "cell_type": "markdown",
   "metadata": {},
   "source": [
    "#### The popularity of the different stations are relativelly equal betweeen different passes. We see the highest correlation between the flex and monthly pass."
   ]
  },
  {
   "cell_type": "code",
   "execution_count": 35,
   "metadata": {},
   "outputs": [
    {
     "data": {
      "text/plain": [
       "<matplotlib.legend.Legend at 0x2043005dd68>"
      ]
     },
     "execution_count": 35,
     "metadata": {},
     "output_type": "execute_result"
    },
    {
     "data": {
      "image/png": "[encoded data removed]",
      "text/plain": [
       "<Figure size 1152x576 with 1 Axes>"
      ]
     },
     "metadata": {
      "needs_background": "light"
     },
     "output_type": "display_data"
    }
   ],
   "source": [
    "stations.plot(figsize=(16, 8))\n",
    "plt.xlabel(\"Stations\")\n",
    "plt.ylabel(\"Count of each station\")\n",
    "plt.legend()"
   ]
  },
  {
   "cell_type": "markdown",
   "metadata": {},
   "source": [
    "#### Many stations are very similar between the passes. Lets find the ones that differs the most between the monthly and daily pass."
   ]
  },
  {
   "cell_type": "code",
   "execution_count": 36,
   "metadata": {},
   "outputs": [
    {
     "name": "stdout",
     "output_type": "stream",
     "text": [
      " The 5 stations that differs most between the monthly and walk-up pass\n",
      "  [3069, 3030, 3014, 3064, 3016]\n"
     ]
    }
   ],
   "source": [
    "diff = stations[\"Monthly Pass\"] - stations[\"Walk-up\"]\n",
    "diff = diff.apply(abs).nlargest(5).index.map(lambda s: station_names[s])\n",
    "print(\" The 5 stations that differs most between the monthly and walk-up pass\\n \",list(diff))"
   ]
  },
  {
   "cell_type": "markdown",
   "metadata": {},
   "source": [
    "#### Bikes in some of these stations might be used daily so people over there prefer taking monthly pass instead of paying daily while some of those stations are used by people visiting near to that location as it may be a tourist location."
   ]
  },
  {
   "cell_type": "code",
   "execution_count": 37,
   "metadata": {},
   "outputs": [],
   "source": [
    "#Finding the trip duration by passholder type\n",
    "# Calculating trip duration based on tripduration(Seconds)\n",
    "trip_duration_for_passholder = pd.DataFrame()\n",
    "trip_duration_for_passholder['Avg. Trip Duration'] = round(metro_bike_trip_df.groupby('Passholder_Type')['Duration'].mean(),2)\n",
    "trip_duration_for_passholder = trip_duration_for_passholder.reset_index()\n",
    "trip_duration_for_passholder['Passholder_Type'] = trip_duration_for_passholder['Passholder_Type'].astype('object')"
   ]
  },
  {
   "cell_type": "code",
   "execution_count": 38,
   "metadata": {},
   "outputs": [
    {
     "data": {
      "image/png": "[encoded data removed]",
      "text/plain": [
       "<Figure size 432x288 with 1 Axes>"
      ]
     },
     "metadata": {
      "needs_background": "light"
     },
     "output_type": "display_data"
    }
   ],
   "source": [
    "# Average Trip Duration by Passholder Type \n",
    "average_trip_plot = sns.barplot('Passholder_Type', 'Avg. Trip Duration', data = trip_duration_for_passholder)\n",
    "plt.Figure(figsize=(15,12))\n",
    "plt.title(\"Average Trip Duration by Passholder Type\")\n",
    "# for index, row in trip_duration_for_passholder.iterrows():\n",
    "#     average_trip_plot.text(index,row['Avg. Trip Duration']-200,(str(row['Avg. Trip Duration'])+\"  Seconds\"), \n",
    "#              color='white', ha=\"center\", fontsize = 10)\n",
    "plt.show()"
   ]
  },
  {
   "cell_type": "markdown",
   "metadata": {},
   "source": [
    "#### Even though monthly pass frequency is high, walk-up people genreally prefer to use bike for longer duration. So we can say that monthly pass user are one that use bikes for near by location. "
   ]
  },
  {
   "cell_type": "markdown",
   "metadata": {},
   "source": [
    "#### Our goal is to predict the number of people using walk-up, monthly pass or flex pass for future trips. "
   ]
  },
  {
   "cell_type": "markdown",
   "metadata": {},
   "source": [
    "# Performing Modeling"
   ]
  },
  {
   "cell_type": "code",
   "execution_count": 39,
   "metadata": {},
   "outputs": [],
   "source": [
    "# To do so lets first find the distance between the starting and endind point by using starting latitude longitude with ending latitude longitude\n",
    "l = []\n",
    "for i in range(97825):\n",
    "    l.append(distance_on_unit_sphere(metro_bike_trip_df['Starting_Station_Latitude'].iloc[i],\n",
    "                                     metro_bike_trip_df['Starting_Station_Longitude'].iloc[i],\n",
    "                                     metro_bike_trip_df['Ending_Station_Latitude'].iloc[i],\n",
    "                                     metro_bike_trip_df['Ending_Station_Longitude'].iloc[i]))\n"
   ]
  },
  {
   "cell_type": "code",
   "execution_count": 40,
   "metadata": {},
   "outputs": [],
   "source": [
    "temp = pd.DataFrame(data=[metro_bike_trip_df['Duration'],\n",
    "                          metro_bike_trip_df['Starting_Station_Latitude'],\n",
    "                          metro_bike_trip_df['Starting_Station_Longitude'],\n",
    "                          metro_bike_trip_df['Ending_Station_Latitude'],\n",
    "                          metro_bike_trip_df['Ending_Station_Longitude'],\n",
    "                          metro_bike_trip_df['Plan_Duration']],\n",
    "                          index=['Duration',\n",
    "                                 'Starting_Station_Latitude',\n",
    "                                 'Starting_Station_Longitude',\n",
    "                                 'Ending_Station_Latitude',\n",
    "                                 'Ending_Station_Longitude',\n",
    "                                 'Plan_Duration'])"
   ]
  },
  {
   "cell_type": "code",
   "execution_count": 41,
   "metadata": {},
   "outputs": [
    {
     "name": "stdout",
     "output_type": "stream",
     "text": [
      "Shape of new train  (97825, 6)\n",
      "Shape of distance  (97825, 1)\n"
     ]
    }
   ],
   "source": [
    "distance = pd.DataFrame({'Distance':l})\n",
    "new_metro_bike_trip_df = temp.T\n",
    "print(\"Shape of new train \",new_metro_bike_trip_df.shape)\n",
    "print (\"Shape of distance \",distance.shape)"
   ]
  },
  {
   "cell_type": "code",
   "execution_count": 42,
   "metadata": {},
   "outputs": [
    {
     "name": "stdout",
     "output_type": "stream",
     "text": [
      "<class 'pandas.core.frame.DataFrame'>\n",
      "RangeIndex: 97825 entries, 0 to 97824\n",
      "Data columns (total 6 columns):\n",
      "Duration                      97825 non-null float64\n",
      "Starting_Station_Latitude     97825 non-null float64\n",
      "Starting_Station_Longitude    97825 non-null float64\n",
      "Ending_Station_Latitude       97825 non-null float64\n",
      "Ending_Station_Longitude      97825 non-null float64\n",
      "Plan_Duration                 97825 non-null float64\n",
      "dtypes: float64(6)\n",
      "memory usage: 4.5 MB\n"
     ]
    }
   ],
   "source": [
    "new_metro_bike_trip_df = new_metro_bike_trip_df.reset_index(drop=True)\n",
    "new_metro_bike_trip_df.info()"
   ]
  },
  {
   "cell_type": "code",
   "execution_count": 43,
   "metadata": {},
   "outputs": [
    {
     "name": "stdout",
     "output_type": "stream",
     "text": [
      "<class 'pandas.core.frame.DataFrame'>\n",
      "RangeIndex: 97825 entries, 0 to 97824\n",
      "Data columns (total 11 columns):\n",
      "Distance                      97825 non-null float64\n",
      "Duration                      97825 non-null float64\n",
      "Starting_Station_Latitude     97825 non-null float64\n",
      "Starting_Station_Longitude    97825 non-null float64\n",
      "Ending_Station_Latitude       97825 non-null float64\n",
      "Ending_Station_Longitude      97825 non-null float64\n",
      "Plan_Duration                 97825 non-null float64\n",
      "Flex Pass                     97825 non-null uint8\n",
      "Monthly Pass                  97825 non-null uint8\n",
      "Walk-up                       97825 non-null uint8\n",
      "Round Trip                    97825 non-null uint8\n",
      "dtypes: float64(7), uint8(4)\n",
      "memory usage: 5.6 MB\n"
     ]
    }
   ],
   "source": [
    "new_metro_bike_trip_df = pd.concat([distance,\n",
    "                         new_metro_bike_trip_df,\n",
    "                         pd.get_dummies(data=metro_bike_trip_df['Passholder_Type']).reset_index(),\n",
    "                         pd.get_dummies(data=metro_bike_trip_df['Trip_Route_Category'],drop_first=True).reset_index()],\n",
    "                         axis=1)\n",
    "new_metro_bike_trip_df = new_metro_bike_trip_df.drop('index',axis=1)\n",
    "new_metro_bike_trip_df.info()"
   ]
  },
  {
   "cell_type": "code",
   "execution_count": 44,
   "metadata": {},
   "outputs": [
    {
     "name": "stdout",
     "output_type": "stream",
     "text": [
      "There are 3 different types of Passholder : \n"
     ]
    },
    {
     "data": {
      "text/plain": [
       "Monthly Pass    60093\n",
       "Walk-up         30532\n",
       "Flex Pass        7200\n",
       "Name: Passholder_Type, dtype: int64"
      ]
     },
     "execution_count": 44,
     "metadata": {},
     "output_type": "execute_result"
    }
   ],
   "source": [
    "print(\"There are 3 different types of Passholder : \")\n",
    "metro_bike_trip_df['Passholder_Type'].value_counts()"
   ]
  },
  {
   "cell_type": "markdown",
   "metadata": {},
   "source": [
    "### Performing modeling by using logistic regression to predict whether  the passholder type is \"Walk-up\" or \"not\""
   ]
  },
  {
   "cell_type": "code",
   "execution_count": 45,
   "metadata": {},
   "outputs": [
    {
     "name": "stderr",
     "output_type": "stream",
     "text": [
      "C:\\Users\\18572\\Anaconda3\\lib\\site-packages\\sklearn\\linear_model\\logistic.py:433: FutureWarning: Default solver will be changed to 'lbfgs' in 0.22. Specify a solver to silence this warning.\n",
      "  FutureWarning)\n"
     ]
    },
    {
     "name": "stdout",
     "output_type": "stream",
     "text": [
      "LogisticRegression(C=1.0, class_weight=None, dual=False, fit_intercept=True,\n",
      "          intercept_scaling=1, max_iter=100, multi_class='warn',\n",
      "          n_jobs=None, penalty='l2', random_state=None, solver='warn',\n",
      "          tol=0.0001, verbose=0, warm_start=False)\n",
      "\n",
      " The classification report for Logistic Regression is: \n",
      "               precision    recall  f1-score   support\n",
      "\n",
      "           0       1.00      1.00      1.00     22258\n",
      "           1       1.00      1.00      1.00     10025\n",
      "\n",
      "   micro avg       1.00      1.00      1.00     32283\n",
      "   macro avg       1.00      1.00      1.00     32283\n",
      "weighted avg       1.00      1.00      1.00     32283\n",
      "\n",
      "The Confusion Matrix for Logistic Regression is: \n",
      " [[22258     0]\n",
      " [    0 10025]]\n"
     ]
    }
   ],
   "source": [
    "# USING LOGISTIC REGRESSION TO PREDICT WHETHER THE PASSHOLDER TYPE IS \"Walk-up\" OR \"Not\"\n",
    "modeling_techniques_and_prediction(new_metro_bike_trip_df, 'Walk-up','logistic' )"
   ]
  },
  {
   "cell_type": "markdown",
   "metadata": {},
   "source": [
    "#### With the help of Logistic Regression and through the results of confusion matrix we were able to predict the walk-up passholder accurately."
   ]
  },
  {
   "cell_type": "markdown",
   "metadata": {},
   "source": [
    "### Peforming Modeling by using Random forest classifier to predict whether the passholder type is \"Monthly Pass\" or \"not\"\n"
   ]
  },
  {
   "cell_type": "code",
   "execution_count": 46,
   "metadata": {},
   "outputs": [
    {
     "name": "stderr",
     "output_type": "stream",
     "text": [
      "C:\\Users\\18572\\Anaconda3\\lib\\site-packages\\sklearn\\ensemble\\forest.py:246: FutureWarning: The default value of n_estimators will change from 10 in version 0.20 to 100 in 0.22.\n",
      "  \"10 in version 0.20 to 100 in 0.22.\", FutureWarning)\n"
     ]
    },
    {
     "name": "stdout",
     "output_type": "stream",
     "text": [
      "RandomForestClassifier(bootstrap=True, class_weight=None, criterion='gini',\n",
      "            max_depth=None, max_features='auto', max_leaf_nodes=None,\n",
      "            min_impurity_decrease=0.0, min_impurity_split=None,\n",
      "            min_samples_leaf=1, min_samples_split=2,\n",
      "            min_weight_fraction_leaf=0.0, n_estimators=10, n_jobs=None,\n",
      "            oob_score=False, random_state=None, verbose=0,\n",
      "            warm_start=False)\n",
      "\n",
      " The classification report for Random Forest is: \n",
      "               precision    recall  f1-score   support\n",
      "\n",
      "           0       1.00      1.00      1.00     12334\n",
      "           1       1.00      1.00      1.00     19949\n",
      "\n",
      "   micro avg       1.00      1.00      1.00     32283\n",
      "   macro avg       1.00      1.00      1.00     32283\n",
      "weighted avg       1.00      1.00      1.00     32283\n",
      "\n",
      "The Confusion Matrix for Random Forest is: \n",
      " [[12334     0]\n",
      " [    0 19949]]\n"
     ]
    }
   ],
   "source": [
    "# USING RANDOM FOREST CLASSIFIER TO PREDICT WHETHER THE PASSHOLDER TYPE IS \"Monthly Pass\" OR \"Not\"\n",
    "modeling_techniques_and_prediction(new_metro_bike_trip_df, 'Monthly Pass','random' )"
   ]
  },
  {
   "cell_type": "markdown",
   "metadata": {},
   "source": [
    "#### With the help of Random Forest Classifier and through the results of confusion matrix we were able to predict the monthly passholder accurately. "
   ]
  },
  {
   "cell_type": "markdown",
   "metadata": {},
   "source": [
    "### Peforming Modeling by using Decision Tree classifier to predict whether the passholder type is \"Flex Pass\" or \"not\"\n"
   ]
  },
  {
   "cell_type": "code",
   "execution_count": 47,
   "metadata": {},
   "outputs": [
    {
     "name": "stdout",
     "output_type": "stream",
     "text": [
      "DecisionTreeClassifier(class_weight=None, criterion='gini', max_depth=None,\n",
      "            max_features=None, max_leaf_nodes=None,\n",
      "            min_impurity_decrease=0.0, min_impurity_split=None,\n",
      "            min_samples_leaf=1, min_samples_split=2,\n",
      "            min_weight_fraction_leaf=0.0, presort=False, random_state=None,\n",
      "            splitter='best')\n",
      "\n",
      " The classification report for Decision Tree is: \n",
      "               precision    recall  f1-score   support\n",
      "\n",
      "           0       1.00      1.00      1.00     29942\n",
      "           1       1.00      1.00      1.00      2341\n",
      "\n",
      "   micro avg       1.00      1.00      1.00     32283\n",
      "   macro avg       1.00      1.00      1.00     32283\n",
      "weighted avg       1.00      1.00      1.00     32283\n",
      "\n",
      "The Confusion Matrix for Decision Tree is: \n",
      " [[29942     0]\n",
      " [    0  2341]]\n"
     ]
    }
   ],
   "source": [
    "# USING DECISION TREE TO PREDICT WHETHER THE PASSHOLDER TYPE IS \"Flex Pass OR \"Not\"\n",
    "modeling_techniques_and_prediction(new_metro_bike_trip_df, 'Flex Pass','decision' )"
   ]
  },
  {
   "cell_type": "markdown",
   "metadata": {},
   "source": [
    "#### With the help of Decision Tree Classifier and through the results of confusion matrix we were able to predict the flex passholder accurately."
   ]
  },
  {
   "cell_type": "markdown",
   "metadata": {},
   "source": [
    "### Conclusion: \n",
    "* Successfully delivered and represented the popular stations,locations, bikes, trips and passholders\n",
    "* Imputed the missing value for the location and visually represented the stations location on a map\n",
    "* Visually represented the peak time of people using the bikes and also calculated the average duration of trips\n",
    "* Finally with the help of passholder we demonstrated accurate models of the riding patterns of different passholder types. \n",
    "* Therefore, with all the above result, more people are likely to enroll for monthly pass which means the stations should be maintained and improved in order to increase more customers for building a good bike sharing network.\n"
   ]
  }
 ],
 "metadata": {
  "kernelspec": {
   "display_name": "Python 3",
   "language": "python",
   "name": "python3"
  },
  "language_info": {
   "codemirror_mode": {
    "name": "ipython",
    "version": 3
   },
   "file_extension": ".py",
   "mimetype": "text/x-python",
   "name": "python",
   "nbconvert_exporter": "python",
   "pygments_lexer": "ipython3",
   "version": "3.7.3"
  }
 },
 "nbformat": 4,
 "nbformat_minor": 2
}
